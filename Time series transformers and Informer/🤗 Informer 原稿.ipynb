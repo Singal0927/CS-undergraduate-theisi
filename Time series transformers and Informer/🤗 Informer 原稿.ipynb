{
 "cells": [
  {
   "cell_type": "code",
   "execution_count": 1,
   "metadata": {},
   "outputs": [],
   "source": [
    "import pandas as pd\n",
    "import numpy as np\n",
    "from gluonts.dataset.common import ListDataset\n",
    "from gluonts.dataset.pandas import PandasDataset\n",
    "from gluonts.dataset.field_names import FieldName\n",
    "\n",
    "import matplotlib.pyplot as plt\n",
    "plt.style.use('seaborn')"
   ]
  },
  {
   "cell_type": "markdown",
   "metadata": {},
   "source": [
    "## Define customer dataset"
   ]
  },
  {
   "cell_type": "code",
   "execution_count": 2,
   "metadata": {},
   "outputs": [
    {
     "data": {
      "text/html": [
       "<div>\n",
       "<style scoped>\n",
       "    .dataframe tbody tr th:only-of-type {\n",
       "        vertical-align: middle;\n",
       "    }\n",
       "\n",
       "    .dataframe tbody tr th {\n",
       "        vertical-align: top;\n",
       "    }\n",
       "\n",
       "    .dataframe thead th {\n",
       "        text-align: right;\n",
       "    }\n",
       "</style>\n",
       "<table border=\"1\" class=\"dataframe\">\n",
       "  <thead>\n",
       "    <tr style=\"text-align: right;\">\n",
       "      <th></th>\n",
       "      <th>Anhui</th>\n",
       "      <th>Beijing</th>\n",
       "      <th>Chongqing</th>\n",
       "      <th>Fujian</th>\n",
       "      <th>Gansu</th>\n",
       "      <th>Guangdong</th>\n",
       "      <th>Guangxi</th>\n",
       "      <th>Guizhou</th>\n",
       "      <th>Hainan</th>\n",
       "      <th>Hebei</th>\n",
       "      <th>...</th>\n",
       "      <th>Shandong</th>\n",
       "      <th>Shanghai</th>\n",
       "      <th>Shanxi</th>\n",
       "      <th>Sichuan</th>\n",
       "      <th>Tianjin</th>\n",
       "      <th>Tibet</th>\n",
       "      <th>Unknown</th>\n",
       "      <th>Xinjiang</th>\n",
       "      <th>Yunnan</th>\n",
       "      <th>Zhejiang</th>\n",
       "    </tr>\n",
       "  </thead>\n",
       "  <tbody>\n",
       "    <tr>\n",
       "      <th>2020-01-22</th>\n",
       "      <td>1</td>\n",
       "      <td>14</td>\n",
       "      <td>6</td>\n",
       "      <td>1</td>\n",
       "      <td>0</td>\n",
       "      <td>26</td>\n",
       "      <td>2</td>\n",
       "      <td>1</td>\n",
       "      <td>4</td>\n",
       "      <td>1</td>\n",
       "      <td>...</td>\n",
       "      <td>2</td>\n",
       "      <td>9</td>\n",
       "      <td>1</td>\n",
       "      <td>5</td>\n",
       "      <td>4</td>\n",
       "      <td>0</td>\n",
       "      <td>0</td>\n",
       "      <td>0</td>\n",
       "      <td>1</td>\n",
       "      <td>10</td>\n",
       "    </tr>\n",
       "    <tr>\n",
       "      <th>2020-01-23</th>\n",
       "      <td>9</td>\n",
       "      <td>22</td>\n",
       "      <td>9</td>\n",
       "      <td>5</td>\n",
       "      <td>2</td>\n",
       "      <td>32</td>\n",
       "      <td>5</td>\n",
       "      <td>3</td>\n",
       "      <td>5</td>\n",
       "      <td>1</td>\n",
       "      <td>...</td>\n",
       "      <td>6</td>\n",
       "      <td>16</td>\n",
       "      <td>1</td>\n",
       "      <td>8</td>\n",
       "      <td>4</td>\n",
       "      <td>0</td>\n",
       "      <td>0</td>\n",
       "      <td>2</td>\n",
       "      <td>2</td>\n",
       "      <td>27</td>\n",
       "    </tr>\n",
       "    <tr>\n",
       "      <th>2020-01-24</th>\n",
       "      <td>15</td>\n",
       "      <td>36</td>\n",
       "      <td>27</td>\n",
       "      <td>10</td>\n",
       "      <td>2</td>\n",
       "      <td>53</td>\n",
       "      <td>23</td>\n",
       "      <td>3</td>\n",
       "      <td>8</td>\n",
       "      <td>2</td>\n",
       "      <td>...</td>\n",
       "      <td>15</td>\n",
       "      <td>20</td>\n",
       "      <td>1</td>\n",
       "      <td>15</td>\n",
       "      <td>8</td>\n",
       "      <td>0</td>\n",
       "      <td>0</td>\n",
       "      <td>2</td>\n",
       "      <td>5</td>\n",
       "      <td>43</td>\n",
       "    </tr>\n",
       "    <tr>\n",
       "      <th>2020-01-25</th>\n",
       "      <td>39</td>\n",
       "      <td>41</td>\n",
       "      <td>57</td>\n",
       "      <td>18</td>\n",
       "      <td>4</td>\n",
       "      <td>78</td>\n",
       "      <td>23</td>\n",
       "      <td>4</td>\n",
       "      <td>19</td>\n",
       "      <td>8</td>\n",
       "      <td>...</td>\n",
       "      <td>27</td>\n",
       "      <td>33</td>\n",
       "      <td>6</td>\n",
       "      <td>28</td>\n",
       "      <td>10</td>\n",
       "      <td>0</td>\n",
       "      <td>0</td>\n",
       "      <td>3</td>\n",
       "      <td>11</td>\n",
       "      <td>62</td>\n",
       "    </tr>\n",
       "    <tr>\n",
       "      <th>2020-01-26</th>\n",
       "      <td>60</td>\n",
       "      <td>68</td>\n",
       "      <td>75</td>\n",
       "      <td>35</td>\n",
       "      <td>7</td>\n",
       "      <td>111</td>\n",
       "      <td>36</td>\n",
       "      <td>5</td>\n",
       "      <td>22</td>\n",
       "      <td>13</td>\n",
       "      <td>...</td>\n",
       "      <td>46</td>\n",
       "      <td>40</td>\n",
       "      <td>9</td>\n",
       "      <td>44</td>\n",
       "      <td>14</td>\n",
       "      <td>0</td>\n",
       "      <td>0</td>\n",
       "      <td>4</td>\n",
       "      <td>16</td>\n",
       "      <td>104</td>\n",
       "    </tr>\n",
       "  </tbody>\n",
       "</table>\n",
       "<p>5 rows × 34 columns</p>\n",
       "</div>"
      ],
      "text/plain": [
       "            Anhui  Beijing  Chongqing  Fujian  Gansu  Guangdong  Guangxi  \\\n",
       "2020-01-22      1       14          6       1      0         26        2   \n",
       "2020-01-23      9       22          9       5      2         32        5   \n",
       "2020-01-24     15       36         27      10      2         53       23   \n",
       "2020-01-25     39       41         57      18      4         78       23   \n",
       "2020-01-26     60       68         75      35      7        111       36   \n",
       "\n",
       "            Guizhou  Hainan  Hebei  ...  Shandong  Shanghai  Shanxi  Sichuan  \\\n",
       "2020-01-22        1       4      1  ...         2         9       1        5   \n",
       "2020-01-23        3       5      1  ...         6        16       1        8   \n",
       "2020-01-24        3       8      2  ...        15        20       1       15   \n",
       "2020-01-25        4      19      8  ...        27        33       6       28   \n",
       "2020-01-26        5      22     13  ...        46        40       9       44   \n",
       "\n",
       "            Tianjin  Tibet  Unknown  Xinjiang  Yunnan  Zhejiang  \n",
       "2020-01-22        4      0        0         0       1        10  \n",
       "2020-01-23        4      0        0         2       2        27  \n",
       "2020-01-24        8      0        0         2       5        43  \n",
       "2020-01-25       10      0        0         3      11        62  \n",
       "2020-01-26       14      0        0         4      16       104  \n",
       "\n",
       "[5 rows x 34 columns]"
      ]
     },
     "execution_count": 2,
     "metadata": {},
     "output_type": "execute_result"
    }
   ],
   "source": [
    "data=pd.read_csv('data/demo.csv',index_col=0)\n",
    "data.index=pd.DatetimeIndex(data.index)\n",
    "data.head()"
   ]
  },
  {
   "cell_type": "code",
   "execution_count": 3,
   "metadata": {},
   "outputs": [],
   "source": [
    "# target_series=np.random.randn(100,24*7)\n",
    "# start_series=[pd.Period('01-01-2019',freq=freq) for _ in range(100)]\n",
    "# freq='1H'\n",
    "\n",
    "target_col_names=['Anhui']\n",
    "# target_col_names=['Anhui']\n",
    "target_series=data[target_col_names].to_numpy().T #shape=[num_series,num_steps],Convention: time axis is always the last axis.\n",
    "start_series=data.index\n",
    "\n",
    "n_vars=target_series.shape[0]\n",
    "freq='1D'\n",
    "prediction_length=24\n",
    "context_length=48\n",
    "num_dynamic_real_features=0\n",
    "num_static_categorical_features=0\n",
    "num_static_real_features=0"
   ]
  },
  {
   "cell_type": "code",
   "execution_count": 4,
   "metadata": {},
   "outputs": [],
   "source": [
    "train_ds=ListDataset(\n",
    "    [\n",
    "        {   \n",
    "            FieldName.START:start_series[0],\n",
    "            FieldName.TARGET:target\n",
    "        }\n",
    "        for target in target_series[:,:-prediction_length]\n",
    "    ],\n",
    "    freq=freq\n",
    ")\n",
    "\n",
    "test_ds=ListDataset(\n",
    "    [\n",
    "        {   \n",
    "            FieldName.START:start_series[0],\n",
    "            FieldName.TARGET:target\n",
    "        }\n",
    "        for target in target_series\n",
    "    ],\n",
    "    freq=freq\n",
    ")\n",
    "\n",
    "# assert len(train_ds)+prediction_length==len(test_ds)"
   ]
  },
  {
   "cell_type": "code",
   "execution_count": 5,
   "metadata": {},
   "outputs": [],
   "source": [
    "from gluonts.dataset.multivariate_grouper import MultivariateGrouper\n",
    "\n",
    "\n",
    "\n",
    "train_grouper=MultivariateGrouper(max_target_dim=n_vars)\n",
    "test_grouper=MultivariateGrouper(max_target_dim=n_vars)\n",
    "\n",
    "multivariate_train_ds=train_grouper(train_ds)\n",
    "multivariate_test_ds=test_grouper(test_ds)\n",
    "\n",
    "# multivariate_train_ds[0]['target']=multivariate_train_ds[0]['target'].squeeze(0) if multivariate_train_ds[0]['target'].shape[0]==1 else multivariate_train_ds[0]['target']\n",
    "\n",
    "# multivariate_test_ds[0]['target']=multivariate_test_ds[0]['target'].squeeze(0) if multivariate_test_ds[0]['target'].shape[0]==1 else multivariate_test_ds[0]['target']"
   ]
  },
  {
   "cell_type": "markdown",
   "metadata": {},
   "source": [
    "## Define the model"
   ]
  },
  {
   "cell_type": "code",
   "execution_count": 6,
   "metadata": {},
   "outputs": [
    {
     "name": "stdout",
     "output_type": "stream",
     "text": [
      "[1, 2, 3]\n",
      "[<function day_of_week at 0x137d14160>, <function day_of_month at 0x137d14280>, <function day_of_year at 0x137d143a0>]\n"
     ]
    }
   ],
   "source": [
    "# time features\n",
    "from gluonts.time_feature import time_features_from_frequency_str,get_lags_for_frequency,TimeFeature\n",
    "\n",
    "# lag_seq=get_lags_for_frequency(freq)\n",
    "lags_seq=[1,2,3]\n",
    "time_features=time_features_from_frequency_str(freq)\n",
    "print(lags_seq,time_features,sep='\\n')"
   ]
  },
  {
   "cell_type": "code",
   "execution_count": 7,
   "metadata": {},
   "outputs": [
    {
     "name": "stdout",
     "output_type": "stream",
     "text": [
      "student_t\n"
     ]
    }
   ],
   "source": [
    "from transformers import InformerConfig,InformerForPrediction\n",
    "\n",
    "n_encoder_layers=4\n",
    "n_decoder_layers=4\n",
    "d_model=4\n",
    "\n",
    "config=InformerConfig(\n",
    "    input_size=n_vars,\n",
    "    prediction_length=prediction_length,\n",
    "    context_length=context_length,\n",
    "    lags_sequence=lags_seq,\n",
    "    num_time_features=len(time_features)+1,#time_features_from_frequency_str(freq)=3 and add another time feature called AgeFeature\n",
    "    num_static_categorical_features=num_static_categorical_features,\n",
    "    cardinality=[len(train_ds[0]['target'])],\n",
    "    embedding_dimension=[3],\n",
    "\n",
    "    encoder_layers=n_encoder_layers,\n",
    "    decoder_layers=n_decoder_layers,\n",
    "    d_model=d_model,\n",
    ")\n",
    "\n",
    "model=InformerForPrediction(config)\n",
    "print(model.config.distribution_output)#time series transformer consists of a distribution head on top instead of nn.Linear in the NLP tasks."
   ]
  },
  {
   "cell_type": "markdown",
   "metadata": {},
   "source": [
    "## Define the transformation"
   ]
  },
  {
   "cell_type": "code",
   "execution_count": 8,
   "metadata": {},
   "outputs": [],
   "source": [
    "from gluonts.time_feature import time_features_from_frequency_str,get_lags_for_frequency\n",
    "\n",
    "from gluonts.transform import (\n",
    "    AddAgeFeature,AddTimeFeatures,VstackFeatures,\n",
    "    AddObservedValuesIndicator,\n",
    "    Chain,\n",
    "    RenameFields,RemoveFields,SelectFields\n",
    ")\n",
    "\n",
    "def createTransformation(freq,config):\n",
    "    return Chain(\n",
    "        [\n",
    "            AddObservedValuesIndicator(\n",
    "                target_field=FieldName.TARGET,\n",
    "                output_field=FieldName.OBSERVED_VALUES,\n",
    "            ),\n",
    "            # temporal features serve as positional encodings\n",
    "            AddTimeFeatures(\n",
    "                start_field=FieldName.START,\n",
    "                target_field=FieldName.TARGET,\n",
    "                output_field=FieldName.FEAT_TIME,\n",
    "                time_features=time_features_from_frequency_str(freq),# 返回len(time_features_from_frequency_str(freq))*len(train_ds)的array\n",
    "                pred_length=config.prediction_length,\n",
    "            ),\n",
    "            # another temporal feature\n",
    "            AddAgeFeature(\n",
    "                target_field=FieldName.TARGET,\n",
    "                output_field=FieldName.FEAT_AGE,\n",
    "                pred_length=config.prediction_length,\n",
    "                log_scale=True,#age feature grows logarithmically otherwise linearly overtime.\n",
    "            ),\n",
    "            # vertically stack all the temporal features into FieldName.FEAT_TIME\n",
    "            VstackFeatures(\n",
    "                output_field=FieldName.FEAT_TIME,\n",
    "                input_fields=[FieldName.FEAT_TIME,FieldName.FEAT_AGE],\n",
    "                h_stack=False,#dim=0 if h_stack=False else dim=1\n",
    "            ),\n",
    "            # InstanceSplitter(\n",
    "            #     target_field=FieldName.TARGET,\n",
    "            #     is_pad_field=FieldName.IS_PAD,\n",
    "            #     start_field=FieldName.START,\n",
    "            #     forecast_start_field=FieldName.FORECAST_START,\n",
    "            #     instance_sampler=ExpectedNumInstanceSampler(num_instances=1,min_future=prediction_length),\n",
    "            #     past_length=context_length,\n",
    "            #     future_length=prediction_length,\n",
    "            #     time_series_fields=[FieldName.FEAT_AGE,FieldName.OBSERVED_VALUES]\n",
    "            # )\n",
    "            RenameFields(\n",
    "                mapping={\n",
    "                    FieldName.OBSERVED_VALUES:'observed_mask',\n",
    "                    FieldName.FEAT_TIME:'time_features',\n",
    "                    FieldName.TARGET:'values'\n",
    "                }\n",
    "            )\n",
    "        ]\n",
    "    )"
   ]
  },
  {
   "cell_type": "markdown",
   "metadata": {},
   "source": [
    "## Define the InstanceSplitter"
   ]
  },
  {
   "cell_type": "code",
   "execution_count": 9,
   "metadata": {},
   "outputs": [],
   "source": [
    "from gluonts.transform.sampler import ExpectedNumInstanceSampler,ValidationSplitSampler,TestSplitSampler\n",
    "from gluonts.transform import InstanceSplitter\n",
    "\n",
    "def createInstanceSplitter(config,mode,train_sampler=None,validation_sampler=None):\n",
    "    assert mode in ['train','validation','test']\n",
    "\n",
    "    instance_sampler={\n",
    "        'train':train_sampler or ExpectedNumInstanceSampler(num_instances=1,min_future=prediction_length),\n",
    "        'validation':validation_sampler or ValidationSplitSampler(min_future=prediction_length),\n",
    "        'test':TestSplitSampler(),\n",
    "    }[mode]\n",
    "\n",
    "    return InstanceSplitter(\n",
    "        target_field='values',\n",
    "        is_pad_field=FieldName.IS_PAD,\n",
    "        start_field=FieldName.START,\n",
    "        forecast_start_field=FieldName.FORECAST_START,\n",
    "        instance_sampler=instance_sampler,\n",
    "        past_length=context_length+max(lags_seq),\n",
    "        future_length=prediction_length,\n",
    "        time_series_fields=['time_features','observed_mask']\n",
    "    )"
   ]
  },
  {
   "cell_type": "markdown",
   "metadata": {},
   "source": [
    "## Create Pytorch DataLoader"
   ]
  },
  {
   "cell_type": "code",
   "execution_count": 10,
   "metadata": {},
   "outputs": [
    {
     "name": "stderr",
     "output_type": "stream",
     "text": [
      "<frozen importlib._bootstrap>:228: RuntimeWarning: scipy._lib.messagestream.MessageStream size changed, may indicate binary incompatibility. Expected 56 from C header, got 64 from PyObject\n"
     ]
    }
   ],
   "source": [
    "from gluonts.itertools import Cyclic, IterableSlice, PseudoShuffled\n",
    "from gluonts.torch.util import IterableDataset\n",
    "from torch.utils.data import DataLoader\n",
    "\n",
    "def createTrainDataLoader(config,freq,data,batch_size,num_batches_per_epoch,shuffle_buffer_length=None):\n",
    "    prediction_input_names=[\n",
    "        'past_values',\n",
    "        'past_time_features',\n",
    "        'past_observed_mask',\n",
    "        'future_time_features',\n",
    "    ]\n",
    "    if num_static_categorical_features>0:\n",
    "        prediction_input_names.append('static_categorical_features')\n",
    "    \n",
    "    if num_static_real_features>0:\n",
    "        prediction_input_names.append('static_real_features')\n",
    "\n",
    "    training_input_names=prediction_input_names+[\n",
    "        'future_values',\n",
    "        'future_observed_mask',\n",
    "    ]\n",
    "    \n",
    "    transformation=createTransformation(freq=freq,config=config)\n",
    "    transformed_data=transformation.apply(data,is_train=True)\n",
    "    \n",
    "    instance_splitter=createInstanceSplitter(config,'train')+SelectFields(training_input_names)#在所选择的fields上create InstanceSplitter\n",
    "\n",
    "    train_instances=instance_splitter.apply(\n",
    "        Cyclic(transformed_data) if shuffle_buffer_length is None\n",
    "        else PseudoShuffled(Cyclic(transformed_data),shuffle_buffer_length=shuffle_buffer_length)\n",
    "    )\n",
    "\n",
    "    return IterableSlice(\n",
    "        iter(DataLoader(\n",
    "            IterableDataset(train_instances),\n",
    "            batch_size=batch_size,\n",
    "        )),num_batches_per_epoch,#表示一次取num_batches_per_epoch个batches\n",
    "    )\n",
    "\n",
    "def createTestDataLoader(config,freq,data,batch_size):\n",
    "    prediction_input_names=[\n",
    "        'past_values',\n",
    "        'past_time_features',\n",
    "        'past_observed_mask',\n",
    "        'future_time_features',\n",
    "    ]\n",
    "    if num_static_categorical_features>0:\n",
    "        prediction_input_names.append('static_categorical_features')\n",
    "    \n",
    "    if num_static_real_features>0:\n",
    "        prediction_input_names.append('static_real_features')\n",
    "    \n",
    "    transformation=createTransformation(freq=freq,config=config)\n",
    "    transformed_data=transformation.apply(data,is_train=False)\n",
    "    \n",
    "    instance_splitter=createInstanceSplitter(config,'test')+SelectFields(prediction_input_names)#在所选择的fields上create InstanceSplitter\n",
    "\n",
    "    test_instances=instance_splitter.apply(transformed_data,is_train=False)\n",
    "\n",
    "    return DataLoader(IterableDataset(test_instances),batch_size=batch_size)"
   ]
  },
  {
   "cell_type": "code",
   "execution_count": 11,
   "metadata": {},
   "outputs": [],
   "source": [
    "train_dataloader=createTrainDataLoader(config,freq,multivariate_train_ds,batch_size=16,num_batches_per_epoch=100)\n",
    "test_dataloader=createTestDataLoader(config,freq,multivariate_test_ds,batch_size=4)"
   ]
  },
  {
   "cell_type": "code",
   "execution_count": 12,
   "metadata": {},
   "outputs": [
    {
     "name": "stdout",
     "output_type": "stream",
     "text": [
      "past_values torch.Size([16, 51, 1])\n",
      "past_time_features torch.Size([16, 51, 4])\n",
      "past_observed_mask torch.Size([16, 51, 1])\n",
      "future_time_features torch.Size([16, 24, 4])\n",
      "future_values torch.Size([16, 24, 1])\n",
      "future_observed_mask torch.Size([16, 24, 1])\n"
     ]
    }
   ],
   "source": [
    "a=next(iter(train_dataloader))\n",
    "for k,v in a.items():\n",
    "    print(k,v.shape)"
   ]
  },
  {
   "cell_type": "code",
   "execution_count": 13,
   "metadata": {},
   "outputs": [
    {
     "name": "stdout",
     "output_type": "stream",
     "text": [
      "past_values torch.Size([1, 51, 1])\n",
      "past_time_features torch.Size([1, 51, 4])\n",
      "past_observed_mask torch.Size([1, 51, 1])\n",
      "future_time_features torch.Size([1, 24, 4])\n"
     ]
    }
   ],
   "source": [
    "#数字2表示batch_size，由于testDataLoader只从每个time series中抽取最后一个prediction_length窗口，故time_series的数量与实际batch_size一致（当time_series的数量小于指定的batch_size数量时）\n",
    "b=next(iter(test_dataloader))\n",
    "for k,v in b.items():\n",
    "    print(k,v.shape)"
   ]
  },
  {
   "cell_type": "code",
   "execution_count": 14,
   "metadata": {},
   "outputs": [
    {
     "data": {
      "text/html": [
       "<pre style=\"white-space:pre;overflow-x:auto;line-height:normal;font-family:Menlo,'DejaVu Sans Mono',consolas,'Courier New',monospace\"><span style=\"color: #800000; text-decoration-color: #800000\">╭─────────────────────────────── </span><span style=\"color: #800000; text-decoration-color: #800000; font-weight: bold\">Traceback </span><span style=\"color: #bf7f7f; text-decoration-color: #bf7f7f; font-weight: bold\">(most recent call last)</span><span style=\"color: #800000; text-decoration-color: #800000\"> ────────────────────────────────╮</span>\n",
       "<span style=\"color: #800000; text-decoration-color: #800000\">│</span> in <span style=\"color: #00ff00; text-decoration-color: #00ff00\">&lt;module&gt;</span>:<span style=\"color: #0000ff; text-decoration-color: #0000ff\">1</span>                                                                                    <span style=\"color: #800000; text-decoration-color: #800000\">│</span>\n",
       "<span style=\"color: #800000; text-decoration-color: #800000\">│</span>                                                                                                  <span style=\"color: #800000; text-decoration-color: #800000\">│</span>\n",
       "<span style=\"color: #800000; text-decoration-color: #800000\">│</span> <span style=\"color: #800000; text-decoration-color: #800000\">❱ </span>1 batch[<span style=\"color: #808000; text-decoration-color: #808000\">'past_values'</span>].squeeze(<span style=\"color: #0000ff; text-decoration-color: #0000ff\">2</span>)                                                              <span style=\"color: #800000; text-decoration-color: #800000\">│</span>\n",
       "<span style=\"color: #800000; text-decoration-color: #800000\">│</span>   <span style=\"color: #7f7f7f; text-decoration-color: #7f7f7f\">2 </span>                                                                                             <span style=\"color: #800000; text-decoration-color: #800000\">│</span>\n",
       "<span style=\"color: #800000; text-decoration-color: #800000\">╰──────────────────────────────────────────────────────────────────────────────────────────────────╯</span>\n",
       "<span style=\"color: #ff0000; text-decoration-color: #ff0000; font-weight: bold\">NameError: </span>name <span style=\"color: #008000; text-decoration-color: #008000\">'batch'</span> is not defined\n",
       "</pre>\n"
      ],
      "text/plain": [
       "\u001b[31m╭─\u001b[0m\u001b[31m──────────────────────────────\u001b[0m\u001b[31m \u001b[0m\u001b[1;31mTraceback \u001b[0m\u001b[1;2;31m(most recent call last)\u001b[0m\u001b[31m \u001b[0m\u001b[31m───────────────────────────────\u001b[0m\u001b[31m─╮\u001b[0m\n",
       "\u001b[31m│\u001b[0m in \u001b[92m<module>\u001b[0m:\u001b[94m1\u001b[0m                                                                                    \u001b[31m│\u001b[0m\n",
       "\u001b[31m│\u001b[0m                                                                                                  \u001b[31m│\u001b[0m\n",
       "\u001b[31m│\u001b[0m \u001b[31m❱ \u001b[0m1 batch[\u001b[33m'\u001b[0m\u001b[33mpast_values\u001b[0m\u001b[33m'\u001b[0m].squeeze(\u001b[94m2\u001b[0m)                                                              \u001b[31m│\u001b[0m\n",
       "\u001b[31m│\u001b[0m   \u001b[2m2 \u001b[0m                                                                                             \u001b[31m│\u001b[0m\n",
       "\u001b[31m╰──────────────────────────────────────────────────────────────────────────────────────────────────╯\u001b[0m\n",
       "\u001b[1;91mNameError: \u001b[0mname \u001b[32m'batch'\u001b[0m is not defined\n"
      ]
     },
     "metadata": {},
     "output_type": "display_data"
    }
   ],
   "source": [
    "batch['past_values'].squeeze(2)"
   ]
  },
  {
   "attachments": {},
   "cell_type": "markdown",
   "metadata": {},
   "source": [
    "## Forward pass"
   ]
  },
  {
   "cell_type": "code",
   "execution_count": 15,
   "metadata": {},
   "outputs": [],
   "source": [
    "import torch\n",
    "device='cuda' if torch.cuda.is_available() else 'cpu'\n",
    "\n",
    "batch=next(iter(train_dataloader))\n",
    "if batch['past_values'].shape[-1]==1:\n",
    "    batch['past_values']=batch['past_values'].squeeze(2)\n",
    "    batch['past_observed_mask']=batch['past_observed_mask'].squeeze(2)\n",
    "    batch['future_values']=batch['future_values'].squeeze(2)\n",
    "    batch['future_observed_mask']=batch['future_observed_mask'].squeeze(2)\n",
    "output=model(\n",
    "    past_values=batch['past_values'].to(device),\n",
    "    past_time_features=batch['past_time_features'].to(device),\n",
    "    past_observed_mask=batch['past_observed_mask'].to(device),\n",
    "    future_time_features=batch['future_time_features'].to(device),\n",
    "    future_values=batch['future_values'].to(device),\n",
    "    future_observed_mask=batch['future_observed_mask'].to(device),\n",
    ")"
   ]
  },
  {
   "cell_type": "markdown",
   "metadata": {},
   "source": [
    "## Train the model"
   ]
  },
  {
   "cell_type": "code",
   "execution_count": 16,
   "metadata": {},
   "outputs": [
    {
     "name": "stdout",
     "output_type": "stream",
     "text": [
      "8.591758728027344\n",
      "8.508415222167969\n",
      "8.534016609191895\n",
      "8.48371410369873\n",
      "8.378129005432129\n",
      "8.32068157196045\n",
      "8.391341209411621\n",
      "8.305306434631348\n",
      "8.63255500793457\n",
      "8.359407424926758\n"
     ]
    }
   ],
   "source": [
    "# from accelerate import Accelerator\n",
    "from torch.optim import AdamW\n",
    "\n",
    "# accelerator=Accelerator()\n",
    "# device=accelerator.device\n",
    "\n",
    "device='cuda' if torch.cuda.is_available() else 'cpu'\n",
    "model.to(device)\n",
    "optimizer=AdamW(model.parameters(),lr=6e-4,betas=(0.9,0.95),weight_decay=1e-1)\n",
    "# model,optimizer,train_dataloader=accelerator.prepare(model,optimizer,train_dataloader)\n",
    "\n",
    "epochs=1\n",
    "total_steps=0\n",
    "logging_steps=10\n",
    "loss_history=[]\n",
    "model.train()\n",
    "for epoch in range(epochs):\n",
    "    for batch in train_dataloader:\n",
    "        if batch['past_values'].shape[-1]==1:\n",
    "            batch['past_values']=batch['past_values'].squeeze(2)\n",
    "            batch['past_observed_mask']=batch['past_observed_mask'].squeeze(2)\n",
    "            batch['future_values']=batch['future_values'].squeeze(2)\n",
    "            batch['future_observed_mask']=batch['future_observed_mask'].squeeze(2)\n",
    "\n",
    "        output=model(\n",
    "            past_values=batch['past_values'].to(device),\n",
    "            past_time_features=batch['past_time_features'].to(device),\n",
    "            past_observed_mask=batch['past_observed_mask'].to(device),\n",
    "            future_time_features=batch['future_time_features'].to(device),\n",
    "            future_values=batch['future_values'].to(device),\n",
    "            future_observed_mask=batch['future_observed_mask'].to(device),\n",
    "        )\n",
    "        \n",
    "        loss=output.loss\n",
    "        loss_history.append(loss.item())\n",
    "        loss.backward()\n",
    "        optimizer.step()\n",
    "\n",
    "        total_steps+=1\n",
    "        if total_steps%logging_steps==0:\n",
    "            print(loss.item())"
   ]
  },
  {
   "cell_type": "code",
   "execution_count": 17,
   "metadata": {},
   "outputs": [
    {
     "data": {
      "text/plain": [
       "{'target': array([[1.000e+00, 9.000e+00, 1.500e+01, ..., 2.275e+03, 2.275e+03,\n",
       "         2.275e+03]], dtype=float32),\n",
       " 'start': Period('2020-01-22', 'D'),\n",
       " 'feat_static_cat': array([0], dtype=int32)}"
      ]
     },
     "execution_count": 17,
     "metadata": {},
     "output_type": "execute_result"
    }
   ],
   "source": [
    "multivariate_test_ds[0]"
   ]
  },
  {
   "cell_type": "markdown",
   "metadata": {},
   "source": [
    "## Inference"
   ]
  },
  {
   "cell_type": "code",
   "execution_count": 39,
   "metadata": {},
   "outputs": [],
   "source": [
    "model.eval()\n",
    "forecast_lis=[]\n",
    "\n",
    "for batch in test_dataloader:\n",
    "    if batch['past_values'].shape[-1]==1:\n",
    "        batch['past_values']=batch['past_values'].squeeze(2)\n",
    "        batch['past_observed_mask']=batch['past_observed_mask'].squeeze(2)\n",
    "    output=model.generate(**batch).sequences\n",
    "    if len(output.shape)==3:#表明是变量个数是1\n",
    "        output=output.unsqueeze(-1)\n",
    "\n",
    "    forecast_lis.append(output.cpu().detach().numpy())\n",
    "\n",
    "forecast_array=np.vstack(forecast_lis)# (batch_size,number of sample paths,prediction length,n_vars)"
   ]
  },
  {
   "cell_type": "code",
   "execution_count": 43,
   "metadata": {},
   "outputs": [
    {
     "data": {
      "text/plain": [
       "Text(0.5, 0, 'MAPE')"
      ]
     },
     "execution_count": 43,
     "metadata": {},
     "output_type": "execute_result"
    },
    {
     "data": {
      "image/png": "[encoded data removed]",
      "text/plain": [
       "<Figure size 720x576 with 1 Axes>"
      ]
     },
     "metadata": {},
     "output_type": "display_data"
    }
   ],
   "source": [
    "# 计算metrics并绘制散点图：\n",
    "from sklearn.metrics import mean_squared_error,mean_absolute_error,mean_absolute_percentage_error\n",
    "\n",
    "mse_lis,mae_lis,mape_lis=[],[],[]\n",
    "for idx,forecast in enumerate(forecast_array):#forecast: (number of sample paths,prediction length,n_vars))\n",
    "    forecast_mean=np.mean(forecast,axis=0).T#forecast_mean: (n_vars, prediction length)\n",
    "    gold=multivariate_test_ds[idx]['target'][:,-prediction_length:]\n",
    "\n",
    "    mse_lis.append(mean_squared_error(gold,forecast_mean))\n",
    "    mae_lis.append(mean_absolute_error(gold,forecast_mean))\n",
    "    mape_lis.append(mean_absolute_percentage_error(gold,forecast_mean))\n",
    "\n",
    "fig=plt.figure(figsize=(10,8))\n",
    "axes=plt.axes(projection='3d')\n",
    "axes.scatter3D(mse_lis,mae_lis,mape_lis)\n",
    "axes.set_xlabel('MSE')\n",
    "axes.set_ylabel('MAE')\n",
    "axes.set_zlabel('MAPE')"
   ]
  },
  {
   "cell_type": "code",
   "execution_count": 45,
   "metadata": {},
   "outputs": [
    {
     "data": {
      "image/png": "[encoded data removed]",
      "text/plain": [
       "<Figure size 576x396 with 1 Axes>"
      ]
     },
     "metadata": {},
     "output_type": "display_data"
    }
   ],
   "source": [
    "def plot(freq,mv_index,forecast_array):\n",
    "    fig,axes=plt.subplots()\n",
    "\n",
    "    index=pd.period_range(\n",
    "        start=multivariate_test_ds[0]['start'],\n",
    "        periods=len(multivariate_test_ds[0]['target'][mv_index]),\n",
    "        freq=freq,\n",
    "    ).to_timestamp()\n",
    "\n",
    "    # true values\n",
    "    axes.plot(index[-context_length:],multivariate_test_ds[0]['target'][mv_index,-context_length:],label='true values')\n",
    "\n",
    "    # preditions\n",
    "    forecast_mean=np.mean(forecast_array[0],axis=0)[:,mv_index]\n",
    "    axes.plot(index[-prediction_length:],forecast_mean[-prediction_length:],label='preditions')\n",
    "\n",
    "    # shadow area\n",
    "    axes.fill_between(\n",
    "        index[-prediction_length:],\n",
    "        y1=forecast_mean-forecast_mean.std(),\n",
    "        y2=forecast_mean+forecast_mean.std(),\n",
    "    )\n",
    "\n",
    "    plt.legend()\n",
    "    plt.show\n",
    "\n",
    "plot(freq,0,forecast_array)"
   ]
  }
 ],
 "metadata": {
  "kernelspec": {
   "display_name": "base",
   "language": "python",
   "name": "python3"
  },
  "language_info": {
   "codemirror_mode": {
    "name": "ipython",
    "version": 3
   },
   "file_extension": ".py",
   "mimetype": "text/x-python",
   "name": "python",
   "nbconvert_exporter": "python",
   "pygments_lexer": "ipython3",
   "version": "3.9.6"
  },
  "orig_nbformat": 4
 },
 "nbformat": 4,
 "nbformat_minor": 2
}
