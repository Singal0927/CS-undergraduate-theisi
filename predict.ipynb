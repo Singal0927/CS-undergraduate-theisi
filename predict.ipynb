{
 "cells": [
  {
   "cell_type": "code",
   "execution_count": 1,
   "metadata": {},
   "outputs": [],
   "source": [
    "import pandas as pd\n",
    "import numpy as np\n",
    "\n",
    "# ML相关库\n",
    "from sklearn.linear_model import LinearRegression\n",
    "from sklearn.svm import SVR\n",
    "from sklearn.preprocessing import PolynomialFeatures,StandardScaler\n",
    "from sklearn.model_selection import KFold,GridSearchCV,train_test_split,RandomizedSearchCV\n",
    "from sklearn.metrics import mean_squared_error,mean_absolute_error,mean_absolute_percentage_error\n",
    "\n",
    "# DL相关库\n",
    "import torch\n",
    "import torch.nn as nn\n",
    "import torch.nn.functional as F\n",
    "\n",
    "from pylab import mpl,plt\n",
    "plt.style.use('seaborn')"
   ]
  },
  {
   "cell_type": "code",
   "execution_count": 41,
   "metadata": {},
   "outputs": [
    {
     "data": {
      "text/html": [
       "<div>\n",
       "<style scoped>\n",
       "    .dataframe tbody tr th:only-of-type {\n",
       "        vertical-align: middle;\n",
       "    }\n",
       "\n",
       "    .dataframe tbody tr th {\n",
       "        vertical-align: top;\n",
       "    }\n",
       "\n",
       "    .dataframe thead th {\n",
       "        text-align: right;\n",
       "    }\n",
       "</style>\n",
       "<table border=\"1\" class=\"dataframe\">\n",
       "  <thead>\n",
       "    <tr style=\"text-align: right;\">\n",
       "      <th></th>\n",
       "      <th>安徽省</th>\n",
       "      <th>北京市</th>\n",
       "    </tr>\n",
       "    <tr>\n",
       "      <th>date</th>\n",
       "      <th></th>\n",
       "      <th></th>\n",
       "    </tr>\n",
       "  </thead>\n",
       "  <tbody>\n",
       "    <tr>\n",
       "      <th>2022-11-01</th>\n",
       "      <td>1538</td>\n",
       "      <td>4756</td>\n",
       "    </tr>\n",
       "    <tr>\n",
       "      <th>2022-11-02</th>\n",
       "      <td>1538</td>\n",
       "      <td>4823</td>\n",
       "    </tr>\n",
       "    <tr>\n",
       "      <th>2022-11-03</th>\n",
       "      <td>1539</td>\n",
       "      <td>4861</td>\n",
       "    </tr>\n",
       "    <tr>\n",
       "      <th>2022-11-04</th>\n",
       "      <td>1539</td>\n",
       "      <td>4902</td>\n",
       "    </tr>\n",
       "    <tr>\n",
       "      <th>2022-11-05</th>\n",
       "      <td>1539</td>\n",
       "      <td>4951</td>\n",
       "    </tr>\n",
       "    <tr>\n",
       "      <th>...</th>\n",
       "      <td>...</td>\n",
       "      <td>...</td>\n",
       "    </tr>\n",
       "    <tr>\n",
       "      <th>2023-03-05</th>\n",
       "      <td>2275</td>\n",
       "      <td>40774</td>\n",
       "    </tr>\n",
       "    <tr>\n",
       "      <th>2023-03-06</th>\n",
       "      <td>2275</td>\n",
       "      <td>40774</td>\n",
       "    </tr>\n",
       "    <tr>\n",
       "      <th>2023-03-07</th>\n",
       "      <td>2275</td>\n",
       "      <td>40774</td>\n",
       "    </tr>\n",
       "    <tr>\n",
       "      <th>2023-03-08</th>\n",
       "      <td>2275</td>\n",
       "      <td>40774</td>\n",
       "    </tr>\n",
       "    <tr>\n",
       "      <th>2023-03-09</th>\n",
       "      <td>2275</td>\n",
       "      <td>40774</td>\n",
       "    </tr>\n",
       "  </tbody>\n",
       "</table>\n",
       "<p>129 rows × 2 columns</p>\n",
       "</div>"
      ],
      "text/plain": [
       "             安徽省    北京市\n",
       "date                   \n",
       "2022-11-01  1538   4756\n",
       "2022-11-02  1538   4823\n",
       "2022-11-03  1539   4861\n",
       "2022-11-04  1539   4902\n",
       "2022-11-05  1539   4951\n",
       "...          ...    ...\n",
       "2023-03-05  2275  40774\n",
       "2023-03-06  2275  40774\n",
       "2023-03-07  2275  40774\n",
       "2023-03-08  2275  40774\n",
       "2023-03-09  2275  40774\n",
       "\n",
       "[129 rows x 2 columns]"
      ]
     },
     "execution_count": 41,
     "metadata": {},
     "output_type": "execute_result"
    }
   ],
   "source": [
    "raw=pd.read_csv('demo.csv')\n",
    "\n",
    "name_map_cn={'Heilongjiang': '黑龙江省', 'Jilin': '吉林省', 'Liaoning': '辽宁省', 'Beijing': '北京市', \n",
    "            'Tianjin': '天津市', 'Hebei': '河北省', 'Shanxi': '山西省', 'Inner Mongolia': '内蒙古自治区', \n",
    "            'Shanghai': '上海市', 'Jiangsu': '江苏省', 'Shandong': '山东省', 'Zhejiang': '浙江省', \n",
    "            'Anhui': '安徽省', 'Jiangxi': '江西省', 'Fujian': '福建省', 'Guangdong': '广东省', \n",
    "            'Macau': '澳门特别行政区', 'Taiwan': '台湾省', 'Hong Kong': '香港特别行政区', 'Tibet': '西藏自治区', \n",
    "            'Guangxi': '广西省', 'Hainan': '海南省', 'Henan': '河南省', 'Hubei': '湖北省', 'Hunan': '湖南省', \n",
    "            'Shaanxi': '陕西省', 'Xinjiang': '新疆自治区', 'Ningxia': '宁夏自治区', 'Gansu': '甘肃省', \n",
    "            'Qinghai': '青海省', 'Chongqing': '重庆市', 'Sichuan': '四川省', 'Guizhou': '贵州省', 'Yunnan': '云南省',}\n",
    "\n",
    "raw.rename(columns={'Unnamed: 0':'date'},inplace=True)\n",
    "raw.rename(columns=name_map_cn,inplace=True)\n",
    "raw.index=pd.DatetimeIndex(raw['date'])\n",
    "raw.drop(columns=['date','Unknown'],inplace=True)\n",
    "data=raw.loc['2022-11':,['安徽省','北京市']]\n",
    "data"
   ]
  },
  {
   "cell_type": "code",
   "execution_count": 44,
   "metadata": {},
   "outputs": [],
   "source": [
    "scaler=StandardScaler()\n",
    "pred_data=scaler.fit_transform(data)\n",
    "pred_data=pd.DataFrame(pred_data,index=data.index,columns=data.columns)"
   ]
  },
  {
   "cell_type": "code",
   "execution_count": 48,
   "metadata": {},
   "outputs": [
    {
     "data": {
      "text/html": [
       "<div>\n",
       "<style scoped>\n",
       "    .dataframe tbody tr th:only-of-type {\n",
       "        vertical-align: middle;\n",
       "    }\n",
       "\n",
       "    .dataframe tbody tr th {\n",
       "        vertical-align: top;\n",
       "    }\n",
       "\n",
       "    .dataframe thead th {\n",
       "        text-align: right;\n",
       "    }\n",
       "</style>\n",
       "<table border=\"1\" class=\"dataframe\">\n",
       "  <thead>\n",
       "    <tr style=\"text-align: right;\">\n",
       "      <th></th>\n",
       "      <th>mse</th>\n",
       "      <th>mape</th>\n",
       "    </tr>\n",
       "  </thead>\n",
       "  <tbody>\n",
       "    <tr>\n",
       "      <th>基准模型</th>\n",
       "      <td>100</td>\n",
       "      <td>200</td>\n",
       "    </tr>\n",
       "  </tbody>\n",
       "</table>\n",
       "</div>"
      ],
      "text/plain": [
       "      mse  mape\n",
       "基准模型  100   200"
      ]
     },
     "execution_count": 48,
     "metadata": {},
     "output_type": "execute_result"
    }
   ],
   "source": [
    "d={'mse':100,'mape':200}\n",
    "pd.DataFrame(d,index=['基准模型'])"
   ]
  },
  {
   "cell_type": "code",
   "execution_count": 50,
   "metadata": {},
   "outputs": [
    {
     "data": {
      "text/plain": [
       "'300.000%'"
      ]
     },
     "execution_count": 50,
     "metadata": {},
     "output_type": "execute_result"
    }
   ],
   "source": [
    "f'{3:.3%}'"
   ]
  },
  {
   "cell_type": "code",
   "execution_count": 37,
   "metadata": {},
   "outputs": [],
   "source": [
    "class ML_predict:\n",
    "    def __init__(self,series:pd.Series,model,train_win,tgt_win,test_size=0.3) -> None:\n",
    "        self.series=series\n",
    "        self.model=model\n",
    "        self.train_win=train_win\n",
    "        self.tgt_win=tgt_win\n",
    "        self.test_size=test_size\n",
    "    \n",
    "    def gen_seq_tgt(self):\n",
    "        '''生成滞后项，np.ndarray'''\n",
    "        seq,tgt=[],[]\n",
    "        L=len(self.series)\n",
    "        for i in range(L-self.train_win-self.tgt_win):\n",
    "            seq.append(self.series.iloc[i:i+self.train_win].values)\n",
    "            tgt.append(self.series.iloc[i+self.train_win:i+self.train_win+self.tgt_win].values)\n",
    "\n",
    "        # 用于后续绘图\n",
    "        self.time_index=self.series.index[:L-self.train_win-self.tgt_win]\n",
    "        self.seq=np.array(seq)\n",
    "        self.tgt=np.array(tgt)\n",
    "    \n",
    "    def predict(self):\n",
    "        self.model_name=str(self.model).split('(')[0]\n",
    "        xtrain,xtest,ytrain,ytest=train_test_split(self.seq,self.tgt,test_size=self.test_size,shuffle=False)\n",
    "\n",
    "        self.model.fit(xtrain,ytrain)\n",
    "        pred=self.model.predict(xtest)\n",
    "        \n",
    "        mse,mae,mape=mean_squared_error(ytest,pred),mean_absolute_error(ytest,pred),mean_absolute_percentage_error(ytest,pred)\n",
    "        score={'MSE':round(mse,3),'MAE':round(mae,3),'MAPE':round(mape,3)}\n",
    "\n",
    "        return pred,score\n",
    "    \n",
    "    def plot(self,pred,score):\n",
    "        plt.plot(self.time_index,self.seq[:,0],label='true values')\n",
    "\n",
    "        length_test=pred.shape[0]\n",
    "        pred_idx=self.time_index[-length_test:]\n",
    "        plt.plot(pred_idx,pred,label='predictions')\n",
    "        plt.vlines(pred_idx[0],ymin=self.seq[:,0].min(),ymax=self.seq[:,0].max(),colors='k',linestyles='dashed',alpha=0.3)\n",
    "        plt.vlines(pred_idx[-1],ymin=self.seq[:,0].min(),ymax=self.seq[:,0].max(),colors='k',linestyles='dashed',alpha=0.3)\n",
    "        # plt.text(pred_idx[0],pred[0],s=f'{pred_idx[0]}')\n",
    "        plt.legend(fontsize=16)\n",
    "        plt.title(f\"{self.model_name}\",fontsize=20)\n",
    "        # plt.title(f\"{self.model_name} MSE:{score['MSE']:.3f} MAE:{score['MAE']:.3f} MAPE:{score['MAPE']:.3f}\",fontsize=20)\n",
    "\n",
    "    def __call__(self):\n",
    "        self.gen_seq_tgt()\n",
    "        pred,score=self.predict()\n",
    "        self.plot(pred,score)\n",
    "        return score\n",
    "    \n",
    "class DL_predict(ML_predict):\n",
    "    def __init__(self, series: pd.Series, model, train_win, tgt_win, test_size=0.3) -> None:\n",
    "        super().__init__(series, model, train_win, tgt_win, test_size)\n",
    "        "
   ]
  },
  {
   "cell_type": "code",
   "execution_count": 38,
   "metadata": {},
   "outputs": [
    {
     "ename": "AttributeError",
     "evalue": "'numpy.ndarray' object has no attribute 'loc'",
     "output_type": "error",
     "traceback": [
      "\u001b[0;31m---------------------------------------------------------------------------\u001b[0m",
      "\u001b[0;31mAttributeError\u001b[0m                            Traceback (most recent call last)",
      "\u001b[0;32m/var/folders/_q/jfbwm6ld1hj436yhbvvnngt00000gn/T/ipykernel_18605/2958309204.py\u001b[0m in \u001b[0;36m<module>\u001b[0;34m\u001b[0m\n\u001b[1;32m      1\u001b[0m \u001b[0mmodel\u001b[0m\u001b[0;34m=\u001b[0m\u001b[0mLinearRegression\u001b[0m\u001b[0;34m(\u001b[0m\u001b[0;34m)\u001b[0m\u001b[0;34m\u001b[0m\u001b[0;34m\u001b[0m\u001b[0m\n\u001b[0;32m----> 2\u001b[0;31m \u001b[0mlr\u001b[0m\u001b[0;34m=\u001b[0m\u001b[0mML_predict\u001b[0m\u001b[0;34m(\u001b[0m\u001b[0mdata\u001b[0m\u001b[0;34m.\u001b[0m\u001b[0mloc\u001b[0m\u001b[0;34m[\u001b[0m\u001b[0;34m:\u001b[0m\u001b[0;34m'2023-1-15'\u001b[0m\u001b[0;34m,\u001b[0m\u001b[0;34m'北京市'\u001b[0m\u001b[0;34m]\u001b[0m\u001b[0;34m,\u001b[0m\u001b[0mmodel\u001b[0m\u001b[0;34m,\u001b[0m\u001b[0;36m5\u001b[0m\u001b[0;34m,\u001b[0m\u001b[0;36m1\u001b[0m\u001b[0;34m,\u001b[0m\u001b[0;36m0.3\u001b[0m\u001b[0;34m)\u001b[0m\u001b[0;34m\u001b[0m\u001b[0;34m\u001b[0m\u001b[0m\n\u001b[0m\u001b[1;32m      3\u001b[0m \u001b[0mlr\u001b[0m\u001b[0;34m(\u001b[0m\u001b[0;34m)\u001b[0m\u001b[0;34m\u001b[0m\u001b[0;34m\u001b[0m\u001b[0m\n",
      "\u001b[0;31mAttributeError\u001b[0m: 'numpy.ndarray' object has no attribute 'loc'"
     ]
    }
   ],
   "source": [
    "model=LinearRegression()\n",
    "lr=ML_predict(data.loc[:'2023-1-15','北京市'],model,5,1,0.3)\n",
    "lr()"
   ]
  },
  {
   "cell_type": "code",
   "execution_count": 33,
   "metadata": {},
   "outputs": [],
   "source": []
  },
  {
   "cell_type": "code",
   "execution_count": 6,
   "metadata": {},
   "outputs": [
    {
     "name": "stderr",
     "output_type": "stream",
     "text": [
      "/Users/singal/miniforge3/lib/python3.9/site-packages/sklearn/utils/validation.py:1111: DataConversionWarning: A column-vector y was passed when a 1d array was expected. Please change the shape of y to (n_samples, ), for example using ravel().\n",
      "  y = column_or_1d(y, warn=True)\n"
     ]
    },
    {
     "data": {
      "text/plain": [
       "{'MSE': 164736169.582, 'MAE': 10289.641, 'MAPE': 0.259}"
      ]
     },
     "execution_count": 6,
     "metadata": {},
     "output_type": "execute_result"
    },
    {
     "data": {
      "image/png": "[encoded data removed]",
      "text/plain": [
       "<Figure size 576x396 with 1 Axes>"
      ]
     },
     "metadata": {},
     "output_type": "display_data"
    }
   ],
   "source": [
    "model=SVR(kernel='poly')\n",
    "svr=ML_predict(data.loc[:'2023-1-15','北京市'],model,5,1,0.3)\n",
    "svr()"
   ]
  },
  {
   "cell_type": "code",
   "execution_count": 23,
   "metadata": {},
   "outputs": [],
   "source": [
    "a=pd.DataFrame()\n",
    "a['测试']={'a':1,'b':2}"
   ]
  },
  {
   "cell_type": "code",
   "execution_count": 31,
   "metadata": {},
   "outputs": [
    {
     "data": {
      "text/plain": [
       "datetime.datetime(2022, 11, 1, 0, 0)"
      ]
     },
     "execution_count": 31,
     "metadata": {},
     "output_type": "execute_result"
    }
   ],
   "source": [
    "data.index[0].to_pydatetime()"
   ]
  }
 ],
 "metadata": {
  "kernelspec": {
   "display_name": "base",
   "language": "python",
   "name": "python3"
  },
  "language_info": {
   "codemirror_mode": {
    "name": "ipython",
    "version": 3
   },
   "file_extension": ".py",
   "mimetype": "text/x-python",
   "name": "python",
   "nbconvert_exporter": "python",
   "pygments_lexer": "ipython3",
   "version": "3.9.6"
  },
  "orig_nbformat": 4
 },
 "nbformat": 4,
 "nbformat_minor": 2
}
